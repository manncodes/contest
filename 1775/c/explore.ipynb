{
 "cells": [
  {
   "cell_type": "code",
   "execution_count": 4,
   "metadata": {},
   "outputs": [
    {
     "name": "stdout",
     "output_type": "stream",
     "text": [
      "42 34\n"
     ]
    }
   ],
   "source": [
    "bin_n = \"101010\"\n",
    "bin_x = \"100010\"\n",
    "n = int(bin_n, 2)\n",
    "x = int(bin_x, 2)\n",
    "print(n,x)"
   ]
  },
  {
   "cell_type": "code",
   "execution_count": 10,
   "metadata": {},
   "outputs": [
    {
     "name": "stdout",
     "output_type": "stream",
     "text": [
      "42 0b101010 42 0b101010\n",
      "43 0b101011 42 0b101010\n",
      "44 0b101100 40 0b101000\n",
      "45 0b101101 40 0b101000\n",
      "46 0b101110 40 0b101000\n",
      "47 0b101111 40 0b101000\n",
      "48 0b110000 32 0b100000\n",
      "49 0b110001 32 0b100000\n",
      "50 0b110010 32 0b100000\n",
      "51 0b110011 32 0b100000\n",
      "52 0b110100 32 0b100000\n",
      "53 0b110101 32 0b100000\n",
      "54 0b110110 32 0b100000\n",
      "55 0b110111 32 0b100000\n",
      "56 0b111000 32 0b100000\n",
      "57 0b111001 32 0b100000\n",
      "58 0b111010 32 0b100000\n",
      "59 0b111011 32 0b100000\n",
      "60 0b111100 32 0b100000\n",
      "61 0b111101 32 0b100000\n",
      "62 0b111110 32 0b100000\n"
     ]
    }
   ],
   "source": [
    "min_n = 2 ** (bin_n.__len__() - 1)\n",
    "max_n = 2 ** bin_n.__len__() - 1\n",
    "\n",
    "for i in range(n, max_n):\n",
    "    n = n & i\n",
    "    print(i, bin(i), n, bin(n))\n"
   ]
  },
  {
   "cell_type": "code",
   "execution_count": null,
   "metadata": {},
   "outputs": [],
   "source": []
  }
 ],
 "metadata": {
  "kernelspec": {
   "display_name": "Python 3",
   "language": "python",
   "name": "python3"
  },
  "language_info": {
   "codemirror_mode": {
    "name": "ipython",
    "version": 3
   },
   "file_extension": ".py",
   "mimetype": "text/x-python",
   "name": "python",
   "nbconvert_exporter": "python",
   "pygments_lexer": "ipython3",
   "version": "3.8.3 (default, Jul  2 2020, 17:30:36) [MSC v.1916 64 bit (AMD64)]"
  },
  "orig_nbformat": 4,
  "vscode": {
   "interpreter": {
    "hash": "ff4f85d6e04298634172ac5d8264e7e9b556b95639fe52ebb9425c4d4cba0c9c"
   }
  }
 },
 "nbformat": 4,
 "nbformat_minor": 2
}
