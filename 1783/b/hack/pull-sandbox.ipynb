{
 "cells": [
  {
   "cell_type": "code",
   "execution_count": 4,
   "metadata": {},
   "outputs": [
    {
     "name": "stderr",
     "output_type": "stream",
     "text": [
      "c:\\anaconda3\\lib\\site-packages\\numpy\\_distributor_init.py:30: UserWarning: loaded more than 1 DLL from .libs:\n",
      "c:\\anaconda3\\lib\\site-packages\\numpy\\.libs\\libopenblas.EL2C6PLE4ZYW3ECEVIV3OXXGRN2NRFM2.gfortran-win_amd64.dll\n",
      "c:\\anaconda3\\lib\\site-packages\\numpy\\.libs\\libopenblas.NOIJJG62EMASZI6NYURL6JBKM4EVBGM7.gfortran-win_amd64.dll\n",
      "c:\\anaconda3\\lib\\site-packages\\numpy\\.libs\\libopenblas.PYQHXLVVQ7VESDPUVUADXEVJOBGHJPAY.gfortran-win_amd64.dll\n",
      "  warnings.warn(\"loaded more than 1 DLL from .libs:\"\n"
     ]
    }
   ],
   "source": [
    "\"\"\"\n",
    "get all the AC solutions from codeforces #1783 Educational Codeforces Round 141 (Rated for Div. 2) for problem B\n",
    "\"\"\"\n",
    "import os, sys, re, requests, json, time\n",
    "from bs4 import BeautifulSoup\n",
    "import pandas as pd\n",
    "from tqdm.auto import tqdm"
   ]
  },
  {
   "cell_type": "code",
   "execution_count": 9,
   "metadata": {},
   "outputs": [],
   "source": [
    "def get_solution_links(page_no):\n",
    "    try:\n",
    "        URL = f\"https://codeforces.com/contest/1783/status/page/{page_no}?order=BY_JUDGED_DESC\"\n",
    "        re = requests.get(URL)\n",
    "        soup = BeautifulSoup(re.text, \"html.parser\")\n",
    "        table = soup.find(\"table\", {\"class\": \"status-frame-datatable\"})\n",
    "        rows = table.find_all(\"tr\")\n",
    "        links = []\n",
    "        for row in rows:\n",
    "            td_data_problemid = row.find(\"td\", {\"data-problemid\": \"1728811\"})\n",
    "            if td_data_problemid is not None:\n",
    "                span_verdict = row.find(\"span\",{\"submissionverdict\": \"OK\"})\n",
    "                if span_verdict is not None:\n",
    "                    # find the href of a in class \"view-source\"\n",
    "                    a = row.find(\"a\")\n",
    "                    if a.get(\"class\") == [\"view-source\"]:\n",
    "                        href = a.get(\"href\")\n",
    "                        # print(\"https://codeforces.com\" + href)\n",
    "                        links.append(\"https://codeforces.com\" + href)\n",
    "\n",
    "        print(f\"page_no: {page_no}, links: {len(links)}\")\n",
    "        if links:\n",
    "            pd.DataFrame(links).to_csv(f\"data/{page_no}.csv\", index=False)\n",
    "        return True\n",
    "    except:\n",
    "        return None"
   ]
  },
  {
   "cell_type": "code",
   "execution_count": 10,
   "metadata": {},
   "outputs": [
    {
     "name": "stdout",
     "output_type": "stream",
     "text": [
      "page_no: 1000, links: 6\n"
     ]
    },
    {
     "data": {
      "text/plain": [
       "True"
      ]
     },
     "execution_count": 10,
     "metadata": {},
     "output_type": "execute_result"
    }
   ],
   "source": [
    "get_solution_links(1000)"
   ]
  },
  {
   "attachments": {},
   "cell_type": "markdown",
   "metadata": {},
   "source": [
    "## Get code"
   ]
  },
  {
   "cell_type": "code",
   "execution_count": 6,
   "metadata": {},
   "outputs": [
    {
     "name": "stdout",
     "output_type": "stream",
     "text": [
      "#include<iostream>\n",
      "#include<cmath>\n",
      "#include<iomanip>\n",
      "#include<algorithm>\n",
      "#include<string>\n",
      "#include<fstream>\n",
      "#include<vector>\n",
      "#include<deque>\n",
      "#include<list>\n",
      "#include<map>\n",
      "#include<set>\n",
      "#include<unordered_set>\n",
      "#include<unordered_map>\n",
      "#include<stack>\n",
      "#include<queue>\n",
      "#define double long double\n",
      "#define ll long long int\n",
      "#define yes   cout<<\"YES\"<<endl\n",
      "#define no    cout<<\"NO\"<<endl\n",
      "#define all(a)        (a).begin(), (a).end()\n",
      "#define rall(a)       (a).rbegin(), (a).rend()\n",
      "using namespace std;\n",
      "const double bye = 3.141592653;\n",
      "\n",
      "void fast()\n",
      "{\n",
      "\tios::sync_with_stdio(false);\n",
      "\tcin.tie(nullptr);\n",
      "\tcout.tie(nullptr);\n",
      "}\n",
      "ll gcd(ll a, ll b)\n",
      "{\n",
      "\twhile (b != 0)\n",
      "\t{\n",
      "\t\tll temp = a;\n",
      "\t\ta = b;\n",
      "\t\tb = temp % a;\n",
      "\t}\n",
      "\treturn a;\n",
      "}\n",
      "int arr[55][55];\n",
      "\n",
      "void solve()\n",
      "{\n",
      "\tll n = 0, m = 0, q = 0, ans = 0, ans2 = 0, res = 0, mn = INT_MAX, mx = INT_MIN, mn2 = INT_MAX, mx2 = INT_MIN;\n",
      "\n",
      "\t\n",
      "\tcin >> n;\n",
      "\tm = n * n;\n",
      "\tq = 1;\n",
      "\tif (n % 2 == 1)\n",
      "\t{\n",
      "\t\tfor (int i = 0; i < n; i++)\n",
      "\t\t{\n",
      "\t\t\tfor (int j = 0; j < n; j++)\n",
      "\t\t\t{\n",
      "\t\t\t\tif (j % 2 == 0)\n",
      "\t\t\t\t{\n",
      "\t\t\t\t\tarr[i][j] = m;\n",
      "\t\t\t\t\tm--;\n",
      "\t\t\t\t}\n",
      "\t\t\t\telse\n",
      "\t\t\t\t{\n",
      "\t\t\t\t\tarr[i][j] = q;\n",
      "\t\t\t\t\tq++;\n",
      "\t\t\t\t}\n",
      "\t\t\t}\n",
      "\t\t}\n",
      "\t}\n",
      "\telse {\n",
      "\t\n",
      "\t\tfor (int i = 0; i < n; i++)\n",
      "\t\t{\n",
      "\t\t\tfor (int j = 0; j < n; j++)\n",
      "\t\t\t{\n",
      "\t\t\t\tif (j % 2 == 1)\n",
      "\t\t\t\t{\n",
      "\t\t\t\t\tarr[i][j] = m;\n",
      "\t\t\t\t\tm--;\n",
      "\t\t\t\t}\n",
      "\t\t\t\telse\n",
      "\t\t\t\t{\n",
      "\t\t\t\t\tarr[i][j] = q;\n",
      "\t\t\t\t\tq++;\n",
      "\t\t\t\t}\n",
      "\t\t\t}\n",
      "\t\t}\n",
      "\t\t\n",
      "\t\n",
      "\t}\n",
      "\n",
      "\tfor (int i = 0; i < n; i++)\n",
      "\t{\n",
      "\t\tfor (int j = 0; j < n; j++)\n",
      "\t\t{\n",
      "\t\t\tcout << arr[i][j]<<\" \";\n",
      "\t\t}\n",
      "\t\tcout << endl;\n",
      "\t}\n",
      "\n",
      "\n",
      "}\n",
      "int main()\n",
      "{\n",
      "\n",
      "\tfast();\n",
      "\n",
      "\tint t;\n",
      "\tcin >> t;\n",
      "\twhile (t--)\n",
      "\t\tsolve();\n",
      "\n",
      "\n",
      "}\n"
     ]
    }
   ],
   "source": [
    "SOL_URL = \"https://codeforces.com/contest/1783/submission/188514613\"\n",
    "re = requests.get(SOL_URL)\n",
    "soup = BeautifulSoup(re.text, \"html.parser\")\n",
    "pre = soup.find(\"pre\")\n",
    "code = pre.text\n",
    "print(code)"
   ]
  },
  {
   "cell_type": "code",
   "execution_count": null,
   "metadata": {},
   "outputs": [],
   "source": []
  }
 ],
 "metadata": {
  "kernelspec": {
   "display_name": "Python 3",
   "language": "python",
   "name": "python3"
  },
  "language_info": {
   "codemirror_mode": {
    "name": "ipython",
    "version": 3
   },
   "file_extension": ".py",
   "mimetype": "text/x-python",
   "name": "python",
   "nbconvert_exporter": "python",
   "pygments_lexer": "ipython3",
   "version": "3.8.3"
  },
  "orig_nbformat": 4,
  "vscode": {
   "interpreter": {
    "hash": "ff4f85d6e04298634172ac5d8264e7e9b556b95639fe52ebb9425c4d4cba0c9c"
   }
  }
 },
 "nbformat": 4,
 "nbformat_minor": 2
}
