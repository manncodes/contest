{
 "cells": [
  {
   "cell_type": "code",
   "execution_count": 26,
   "metadata": {},
   "outputs": [],
   "source": [
    "\"\"\"\n",
    "get all the AC solutions from codeforces #1783 Educational Codeforces Round 141 (Rated for Div. 2) for problem B\n",
    "\"\"\"\n",
    "import os, sys, re, requests, json, time\n",
    "from bs4 import BeautifulSoup\n",
    "import pandas as pd\n",
    "from tqdm.auto import tqdm"
   ]
  },
  {
   "cell_type": "code",
   "execution_count": 27,
   "metadata": {},
   "outputs": [
    {
     "name": "stdout",
     "output_type": "stream",
     "text": [
      "#include<iostream>\n",
      "#include<cmath>\n",
      "#include<iomanip>\n",
      "#include<algorithm>\n",
      "#include<string>\n",
      "#include<fstream>\n",
      "#include<vector>\n",
      "#include<deque>\n",
      "#include<list>\n",
      "#include<map>\n",
      "#include<set>\n",
      "#include<unordered_set>\n",
      "#include<unordered_map>\n",
      "#include<stack>\n",
      "#include<queue>\n",
      "#define double long double\n",
      "#define ll long long int\n",
      "#define yes   cout<<\"YES\"<<endl\n",
      "#define no    cout<<\"NO\"<<endl\n",
      "#define all(a)        (a).begin(), (a).end()\n",
      "#define rall(a)       (a).rbegin(), (a).rend()\n",
      "using namespace std;\n",
      "const double bye = 3.141592653;\n",
      "\n",
      "void fast()\n",
      "{\n",
      "\tios::sync_with_stdio(false);\n",
      "\tcin.tie(nullptr);\n",
      "\tcout.tie(nullptr);\n",
      "}\n",
      "ll gcd(ll a, ll b)\n",
      "{\n",
      "\twhile (b != 0)\n",
      "\t{\n",
      "\t\tll temp = a;\n",
      "\t\ta = b;\n",
      "\t\tb = temp % a;\n",
      "\t}\n",
      "\treturn a;\n",
      "}\n",
      "int arr[55][55];\n",
      "\n",
      "void solve()\n",
      "{\n",
      "\tll n = 0, m = 0, q = 0, ans = 0, ans2 = 0, res = 0, mn = INT_MAX, mx = INT_MIN, mn2 = INT_MAX, mx2 = INT_MIN;\n",
      "\n",
      "\t\n",
      "\tcin >> n;\n",
      "\tm = n * n;\n",
      "\tq = 1;\n",
      "\tif (n % 2 == 1)\n",
      "\t{\n",
      "\t\tfor (int i = 0; i < n; i++)\n",
      "\t\t{\n",
      "\t\t\tfor (int j = 0; j < n; j++)\n",
      "\t\t\t{\n",
      "\t\t\t\tif (j % 2 == 0)\n",
      "\t\t\t\t{\n",
      "\t\t\t\t\tarr[i][j] = m;\n",
      "\t\t\t\t\tm--;\n",
      "\t\t\t\t}\n",
      "\t\t\t\telse\n",
      "\t\t\t\t{\n",
      "\t\t\t\t\tarr[i][j] = q;\n",
      "\t\t\t\t\tq++;\n",
      "\t\t\t\t}\n",
      "\t\t\t}\n",
      "\t\t}\n",
      "\t}\n",
      "\telse {\n",
      "\t\n",
      "\t\tfor (int i = 0; i < n; i++)\n",
      "\t\t{\n",
      "\t\t\tfor (int j = 0; j < n; j++)\n",
      "\t\t\t{\n",
      "\t\t\t\tif (j % 2 == 1)\n",
      "\t\t\t\t{\n",
      "\t\t\t\t\tarr[i][j] = m;\n",
      "\t\t\t\t\tm--;\n",
      "\t\t\t\t}\n",
      "\t\t\t\telse\n",
      "\t\t\t\t{\n",
      "\t\t\t\t\tarr[i][j] = q;\n",
      "\t\t\t\t\tq++;\n",
      "\t\t\t\t}\n",
      "\t\t\t}\n",
      "\t\t}\n",
      "\t\t\n",
      "\t\n",
      "\t}\n",
      "\n",
      "\tfor (int i = 0; i < n; i++)\n",
      "\t{\n",
      "\t\tfor (int j = 0; j < n; j++)\n",
      "\t\t{\n",
      "\t\t\tcout << arr[i][j]<<\" \";\n",
      "\t\t}\n",
      "\t\tcout << endl;\n",
      "\t}\n",
      "\n",
      "\n",
      "}\n",
      "int main()\n",
      "{\n",
      "\n",
      "\tfast();\n",
      "\n",
      "\tint t;\n",
      "\tcin >> t;\n",
      "\twhile (t--)\n",
      "\t\tsolve();\n",
      "\n",
      "\n",
      "}\n"
     ]
    }
   ],
   "source": [
    "SOL_URL = \"https://codeforces.com/contest/1783/submission/188514613\"\n",
    "re = requests.get(SOL_URL)\n",
    "soup = BeautifulSoup(re.text, \"html.parser\")\n",
    "pre = soup.find(\"pre\")\n",
    "code = pre.text\n",
    "print(code)"
   ]
  },
  {
   "cell_type": "code",
   "execution_count": 8,
   "metadata": {},
   "outputs": [],
   "source": [
    "if not os.path.exists(\"code\"):\n",
    "    os.makedirs(\"code\")"
   ]
  },
  {
   "cell_type": "code",
   "execution_count": 28,
   "metadata": {},
   "outputs": [],
   "source": [
    "# check if code if c++:\n",
    "if code.startswith(\"#include\"):\n",
    "    with open(f\"code/{SOL_URL.split('/')[-1]}.cpp\", \"w\") as f:\n",
    "        f.write(code)"
   ]
  },
  {
   "cell_type": "code",
   "execution_count": 29,
   "metadata": {},
   "outputs": [],
   "source": [
    "def get_code(SOL_URL):\n",
    "    re = requests.get(SOL_URL)\n",
    "    soup = BeautifulSoup(re.text, \"html.parser\")\n",
    "    pre = soup.find(\"pre\")\n",
    "    code = pre.text\n",
    "    print(code)\n",
    "    # check if code if c++ by checking if\n",
    "    if code.find(\"#include\")!= -1:       \n",
    "        with open(f\"code/{SOL_URL.split('/')[-1]}.cpp\", \"w\") as f:\n",
    "            f.write(code)"
   ]
  },
  {
   "cell_type": "code",
   "execution_count": null,
   "metadata": {},
   "outputs": [],
   "source": []
  }
 ],
 "metadata": {
  "kernelspec": {
   "display_name": "torch",
   "language": "python",
   "name": "python3"
  },
  "language_info": {
   "codemirror_mode": {
    "name": "ipython",
    "version": 3
   },
   "file_extension": ".py",
   "mimetype": "text/x-python",
   "name": "python",
   "nbconvert_exporter": "python",
   "pygments_lexer": "ipython3",
   "version": "3.9.5 (default, May 18 2021, 14:42:02) [MSC v.1916 64 bit (AMD64)]"
  },
  "orig_nbformat": 4,
  "vscode": {
   "interpreter": {
    "hash": "547ee50e40d87817f75d1ee877b740edfc806d61a2aaf053f55886e79ba728f4"
   }
  }
 },
 "nbformat": 4,
 "nbformat_minor": 2
}
